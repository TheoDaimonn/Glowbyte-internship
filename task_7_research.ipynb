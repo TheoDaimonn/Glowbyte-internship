{
 "cells": [
  {
   "cell_type": "markdown",
   "metadata": {},
   "source": [
    "Цель: Использун созданный вами датасет из предыдущей лекции, выполните дообучение существующей модели для упучшения ее производительности на новой задаче.\n",
    "\n",
    "Описание задании:\n",
    "\n",
    "1.Выбор модели для дообученик:\n",
    "\n",
    "Обоснуйте свой выбор, указан, почему выбранная модель подходит для дообучения на вашем датасете.\n",
    "\n",
    "2.Подготовка данных:\n",
    "\n",
    "Проверьте качество и разнообразие собранного пами датасета.\n",
    "Выполните необходимую предобреботку данных (удаление шума, токенизация, нормализации и т.д.). Раздипите датасет на тренировочную, вапидационную и тестовую выборки.\n",
    "\n",
    "3.Дообучение модели:\n",
    "\n",
    "Допопнительные задания:\n",
    "\n",
    "Настройте гиперпараметры/параметры модели, учитыая специфику вашего датасета.\n",
    "\n",
    "Проведите процесс дообучения модели на собранных данных.\n",
    "Попробуйте дообучить несколько различных моделей и сравнить их резупьтаты.\n",
    "\n",
    "4.Оценка модели:\n",
    "\n",
    "Проведите эксперименты с различными гиперпараметрами, чтобы понить, как они климат на качество добученной модели.\n",
    "\n",
    "Оцените производительность модели на вапидационной и тестовой выборках.\n",
    "\n",
    "Сравните результаты до и после дообучения.\n",
    "\n",
    "Примените методы дли предотвращения переобучения (регуляризация, ранния остановка и т.д.) и сравните результаты.\n",
    "\n",
    "Опишите, какие изменения в модели произошали, какие задачи она стала решать лучше или хуже."
   ]
  },
  {
   "cell_type": "markdown",
   "metadata": {},
   "source": [
    "# Часть 1(финальный забег)\n",
    "\n",
    "Задача для нашего датасета: определить, насколько нужно и срочно посещение психиатра в конкретном случае по истории человека\n",
    "\n",
    "Выберем модели, которую будем дообучать.\n",
    "\n",
    "Возьму Tini_llama дообученную на корпусе русских слов(https://huggingface.co/AlexWortega/tini_llama_full?library=transformers). Пробовал и другие подели, но с ними все работало отвратительн(либо не хватало памяти)"
   ]
  },
  {
   "cell_type": "code",
   "execution_count": 35,
   "metadata": {},
   "outputs": [],
   "source": [
    "# Load model directly\n",
    "from transformers import AutoTokenizer, AutoModelForCausalLM\n",
    "\n",
    "tokenizer = AutoTokenizer.from_pretrained(\"AlexWortega/tini_llama_full\")\n",
    "model = AutoModelForCausalLM.from_pretrained(\"AlexWortega/tini_llama_full\")"
   ]
  },
  {
   "cell_type": "markdown",
   "metadata": {},
   "source": [
    "# Часть 1(обработаем данные)\n",
    "\n",
    "Мы возьмем за эталон те данные, которые были получены в предыдущем задании(во многом они были максимально правдоподобны и верны вплоть до погрешности. Убедился в этом, когда начал вручную размечать данные. Слишком много попадений)\n",
    "\n",
    "Обработаем их, достанем только проценты - то, насколько необходим поход к врачу(это будет играть роль когда мы будем смотреть метрики моделей)"
   ]
  },
  {
   "cell_type": "code",
   "execution_count": 3,
   "metadata": {},
   "outputs": [
    {
     "data": {
      "text/html": [
       "<div>\n",
       "<style scoped>\n",
       "    .dataframe tbody tr th:only-of-type {\n",
       "        vertical-align: middle;\n",
       "    }\n",
       "\n",
       "    .dataframe tbody tr th {\n",
       "        vertical-align: top;\n",
       "    }\n",
       "\n",
       "    .dataframe thead th {\n",
       "        text-align: right;\n",
       "    }\n",
       "</style>\n",
       "<table border=\"1\" class=\"dataframe\">\n",
       "  <thead>\n",
       "    <tr style=\"text-align: right;\">\n",
       "      <th></th>\n",
       "      <th>request</th>\n",
       "      <th>ans</th>\n",
       "    </tr>\n",
       "  </thead>\n",
       "  <tbody>\n",
       "    <tr>\n",
       "      <th>0</th>\n",
       "      <td>Мой сын стал избегать общения с друзьями и отк...</td>\n",
       "      <td>Возможные психологические расстройства:\\n\\nСоц...</td>\n",
       "    </tr>\n",
       "    <tr>\n",
       "      <th>1</th>\n",
       "      <td>Моя дочь часто смеется и радуется, любит играт...</td>\n",
       "      <td>Возможные психологические расстройства:\\n\\nЭйф...</td>\n",
       "    </tr>\n",
       "    <tr>\n",
       "      <th>2</th>\n",
       "      <td>Мой ребенок стал очень раздражительным, часто ...</td>\n",
       "      <td>Возможные психологические расстройства:\\n\\nДеп...</td>\n",
       "    </tr>\n",
       "    <tr>\n",
       "      <th>3</th>\n",
       "      <td>Моя дочь говорит, что слышит голоса, которые з...</td>\n",
       "      <td>Возможные психологические расстройства:\\n\\nПар...</td>\n",
       "    </tr>\n",
       "    <tr>\n",
       "      <th>4</th>\n",
       "      <td>Мой сын часто смеется и весело проводит время ...</td>\n",
       "      <td>Возможные психологические расстройства:\\n\\n  О...</td>\n",
       "    </tr>\n",
       "    <tr>\n",
       "      <th>...</th>\n",
       "      <td>...</td>\n",
       "      <td>...</td>\n",
       "    </tr>\n",
       "    <tr>\n",
       "      <th>95</th>\n",
       "      <td>Моя дочь стала бояться выступать перед классом...</td>\n",
       "      <td>Возможные психологические расстройства:\\n\\nСоц...</td>\n",
       "    </tr>\n",
       "    <tr>\n",
       "      <th>96</th>\n",
       "      <td>Мой сын перестал радоваться жизни, выглядит по...</td>\n",
       "      <td>Возможные психологические расстройства:\\n\\nДеп...</td>\n",
       "    </tr>\n",
       "    <tr>\n",
       "      <th>97</th>\n",
       "      <td>Моя дочь стала одержима своей фигурой, сидит н...</td>\n",
       "      <td>Возможные психологические расстройства:\\n\\nЭ E...</td>\n",
       "    </tr>\n",
       "    <tr>\n",
       "      <th>98</th>\n",
       "      <td>Мой сын стал замкнутым, не хочет общаться с се...</td>\n",
       "      <td>Возможные психологические расстройства:\\n\\nСоц...</td>\n",
       "    </tr>\n",
       "    <tr>\n",
       "      <th>99</th>\n",
       "      <td>Моя дочь стала избегать занятий, которые раньш...</td>\n",
       "      <td>Возможные психологические расстройства:\\n\\nДеп...</td>\n",
       "    </tr>\n",
       "  </tbody>\n",
       "</table>\n",
       "<p>100 rows × 2 columns</p>\n",
       "</div>"
      ],
      "text/plain": [
       "                                              request  \\\n",
       "0   Мой сын стал избегать общения с друзьями и отк...   \n",
       "1   Моя дочь часто смеется и радуется, любит играт...   \n",
       "2   Мой ребенок стал очень раздражительным, часто ...   \n",
       "3   Моя дочь говорит, что слышит голоса, которые з...   \n",
       "4   Мой сын часто смеется и весело проводит время ...   \n",
       "..                                                ...   \n",
       "95  Моя дочь стала бояться выступать перед классом...   \n",
       "96  Мой сын перестал радоваться жизни, выглядит по...   \n",
       "97  Моя дочь стала одержима своей фигурой, сидит н...   \n",
       "98  Мой сын стал замкнутым, не хочет общаться с се...   \n",
       "99  Моя дочь стала избегать занятий, которые раньш...   \n",
       "\n",
       "                                                  ans  \n",
       "0   Возможные психологические расстройства:\\n\\nСоц...  \n",
       "1   Возможные психологические расстройства:\\n\\nЭйф...  \n",
       "2   Возможные психологические расстройства:\\n\\nДеп...  \n",
       "3   Возможные психологические расстройства:\\n\\nПар...  \n",
       "4   Возможные психологические расстройства:\\n\\n  О...  \n",
       "..                                                ...  \n",
       "95  Возможные психологические расстройства:\\n\\nСоц...  \n",
       "96  Возможные психологические расстройства:\\n\\nДеп...  \n",
       "97  Возможные психологические расстройства:\\n\\nЭ E...  \n",
       "98  Возможные психологические расстройства:\\n\\nСоц...  \n",
       "99  Возможные психологические расстройства:\\n\\nДеп...  \n",
       "\n",
       "[100 rows x 2 columns]"
      ]
     },
     "execution_count": 3,
     "metadata": {},
     "output_type": "execute_result"
    }
   ],
   "source": [
    "import pandas as pd\n",
    "import re\n",
    "\n",
    "df = pd.read_csv('datasett.csv')\n",
    "#df['percentage'] = df['ans'].apply(lambda x: re.findall(r'(\\d+)(?=%)', x)[-1])\n",
    "df.drop(columns=['Unnamed: 0', 'attrs'], inplace=True)\n",
    "df"
   ]
  },
  {
   "cell_type": "markdown",
   "metadata": {},
   "source": [
    "Протестируем модель:"
   ]
  },
  {
   "cell_type": "code",
   "execution_count": 36,
   "metadata": {},
   "outputs": [
    {
     "name": "stdout",
     "output_type": "stream",
     "text": [
      "\n",
      "\n",
      " Мой сын стал избегать еды, говорит, что боится отравиться, и ест только определенные продукты.\"\n",
      "Мне нужно идти к психологу? напиши одно число \n",
      "  1. 0\n",
      "  2. 1\n",
      "  3. 2\n",
      "  4. 3\n",
      "  5. 4\n",
      "  6. 5\n",
      "  7. 6\n",
      "  8. 7\n",
      "  9. 8\n",
      "  10. 9\n",
      "  11. 10\n",
      "  12. 11\n",
      "  13. 12\n",
      "  14. 13\n",
      "  15. \n"
     ]
    }
   ],
   "source": [
    "def generate_recommendation(text):\n",
    "    inputs = tokenizer(text, return_tensors=\"pt\", truncation=True, padding=\"max_length\", max_length=512)\n",
    "\n",
    "    outputs = model.generate(\n",
    "        **inputs,\n",
    "        max_length=610,\n",
    "        num_beams=5,\n",
    "        early_stopping=True\n",
    "    )\n",
    "\n",
    "    recommendation = tokenizer.decode(outputs[0], skip_special_tokens=True)\n",
    "    return recommendation\n",
    "input_text = f'''\n",
    "\n",
    " {df[\"request\"][80]}\n",
    "Мне нужно идти к психологу? напиши одно число \n",
    "'''\n",
    "\n",
    "print(generate_recommendation(input_text))"
   ]
  },
  {
   "cell_type": "markdown",
   "metadata": {},
   "source": [
    "Разделим датасет на тестовую и тренировочную выборки"
   ]
  },
  {
   "cell_type": "code",
   "execution_count": 4,
   "metadata": {},
   "outputs": [],
   "source": [
    "from datasets import Dataset\n",
    "from sklearn.model_selection import train_test_split\n",
    "\n",
    "train_df, test_df = train_test_split(df, test_size=0.2, random_state=42)\n",
    "\n",
    "train_dataset = Dataset.from_pandas(train_df)\n",
    "test_dataset = Dataset.from_pandas(test_df)\n"
   ]
  },
  {
   "cell_type": "markdown",
   "metadata": {},
   "source": [
    "Эти самые проценты будут эталоном для модельки\n",
    "\n",
    "Попробуем обозначить что мы хотим и достать проценты сырой gemma2 с минимальным промптом для сравнения впоследствие. \n",
    "\n",
    "Посмотрим, как она будет      у нас работать"
   ]
  },
  {
   "cell_type": "code",
   "execution_count": 5,
   "metadata": {},
   "outputs": [
    {
     "data": {
      "application/vnd.jupyter.widget-view+json": {
       "model_id": "0d86c9ea26d848f9bac0e73af0c4f511",
       "version_major": 2,
       "version_minor": 0
      },
      "text/plain": [
       "Map:   0%|          | 0/80 [00:00<?, ? examples/s]"
      ]
     },
     "metadata": {},
     "output_type": "display_data"
    },
    {
     "data": {
      "application/vnd.jupyter.widget-view+json": {
       "model_id": "c634cea2461b4429b616608c48dde488",
       "version_major": 2,
       "version_minor": 0
      },
      "text/plain": [
       "Map:   0%|          | 0/20 [00:00<?, ? examples/s]"
      ]
     },
     "metadata": {},
     "output_type": "display_data"
    }
   ],
   "source": [
    "from transformers import AutoTokenizer\n",
    "\n",
    "tokenizer.pad_token = tokenizer.eos_token\n",
    "def tokenize_and_prepare(examples):\n",
    "    inputs = tokenizer(examples['request'], truncation=True, padding='max_length', max_length=512)\n",
    "    targets = tokenizer(examples['ans'], truncation=True, padding='max_length', max_length=512)\n",
    "    inputs['labels'] = targets['input_ids']\n",
    "    return inputs\n",
    "train_dataset = train_dataset.map(tokenize_and_prepare, batched=True)\n",
    "test_dataset = test_dataset.map(tokenize_and_prepare, batched=True)\n",
    "train_dataset.set_format('torch', columns=['input_ids', 'attention_mask', 'labels'])\n",
    "test_dataset.set_format('torch', columns=['input_ids', 'attention_mask', 'labels'])\n"
   ]
  },
  {
   "cell_type": "markdown",
   "metadata": {},
   "source": [
    "# Часть 3(учим, но ничего не учится)"
   ]
  },
  {
   "cell_type": "markdown",
   "metadata": {},
   "source": [
    "Напишем цикл обучения модели"
   ]
  },
  {
   "cell_type": "code",
   "execution_count": 6,
   "metadata": {},
   "outputs": [],
   "source": [
    "from datasets import DatasetDict\n",
    "dataset_dict = DatasetDict({\n",
    "    'train': train_dataset,\n",
    "    'test': test_dataset\n",
    "})"
   ]
  },
  {
   "cell_type": "code",
   "execution_count": 7,
   "metadata": {},
   "outputs": [
    {
     "name": "stdout",
     "output_type": "stream",
     "text": [
      "WARNING:tensorflow:From c:\\Users\\Ivan\\PycharmProjects\\pythonProject7\\venv\\Lib\\site-packages\\tf_keras\\src\\losses.py:2976: The name tf.losses.sparse_softmax_cross_entropy is deprecated. Please use tf.compat.v1.losses.sparse_softmax_cross_entropy instead.\n",
      "\n"
     ]
    },
    {
     "name": "stderr",
     "output_type": "stream",
     "text": [
      "c:\\Users\\Ivan\\PycharmProjects\\pythonProject7\\venv\\Lib\\site-packages\\transformers\\training_args.py:1525: FutureWarning: `evaluation_strategy` is deprecated and will be removed in version 4.46 of 🤗 Transformers. Use `eval_strategy` instead\n",
      "  warnings.warn(\n"
     ]
    },
    {
     "data": {
      "application/vnd.jupyter.widget-view+json": {
       "model_id": "996f69ddba2047bfaf8a081dcc4fa0a4",
       "version_major": 2,
       "version_minor": 0
      },
      "text/plain": [
       "  0%|          | 0/9 [00:00<?, ?it/s]"
      ]
     },
     "metadata": {},
     "output_type": "display_data"
    },
    {
     "name": "stderr",
     "output_type": "stream",
     "text": [
      "We detected that you are passing `past_key_values` as a tuple and this is deprecated and will be removed in v4.43. Please use an appropriate `Cache` class (https://huggingface.co/docs/transformers/v4.41.3/en/internal/generation_utils#transformers.Cache)\n"
     ]
    },
    {
     "data": {
      "application/vnd.jupyter.widget-view+json": {
       "model_id": "18d7987f68444f40bda6bca56ca53198",
       "version_major": 2,
       "version_minor": 0
      },
      "text/plain": [
       "  0%|          | 0/1 [00:00<?, ?it/s]"
      ]
     },
     "metadata": {},
     "output_type": "display_data"
    },
    {
     "name": "stdout",
     "output_type": "stream",
     "text": [
      "{'eval_loss': 2.058337688446045, 'eval_runtime': 225.2893, 'eval_samples_per_second': 0.089, 'eval_steps_per_second': 0.004, 'epoch': 1.0}\n"
     ]
    },
    {
     "data": {
      "application/vnd.jupyter.widget-view+json": {
       "model_id": "e0d231c349ab4f218311296b872b4f43",
       "version_major": 2,
       "version_minor": 0
      },
      "text/plain": [
       "  0%|          | 0/1 [00:00<?, ?it/s]"
      ]
     },
     "metadata": {},
     "output_type": "display_data"
    },
    {
     "name": "stdout",
     "output_type": "stream",
     "text": [
      "{'eval_loss': 2.057295322418213, 'eval_runtime': 224.6893, 'eval_samples_per_second': 0.089, 'eval_steps_per_second': 0.004, 'epoch': 2.0}\n"
     ]
    },
    {
     "data": {
      "application/vnd.jupyter.widget-view+json": {
       "model_id": "d2a083f44c5c450b98f4f7f5b59dc8db",
       "version_major": 2,
       "version_minor": 0
      },
      "text/plain": [
       "  0%|          | 0/1 [00:00<?, ?it/s]"
      ]
     },
     "metadata": {},
     "output_type": "display_data"
    },
    {
     "name": "stdout",
     "output_type": "stream",
     "text": [
      "{'eval_loss': 2.056861400604248, 'eval_runtime': 224.7762, 'eval_samples_per_second': 0.089, 'eval_steps_per_second': 0.004, 'epoch': 3.0}\n",
      "{'train_runtime': 9902.4607, 'train_samples_per_second': 0.024, 'train_steps_per_second': 0.001, 'train_loss': 2.2522449493408203, 'epoch': 3.0}\n"
     ]
    },
    {
     "data": {
      "text/plain": [
       "TrainOutput(global_step=9, training_loss=2.2522449493408203, metrics={'train_runtime': 9902.4607, 'train_samples_per_second': 0.024, 'train_steps_per_second': 0.001, 'total_flos': 805390421852160.0, 'train_loss': 2.2522449493408203, 'epoch': 3.0})"
      ]
     },
     "execution_count": 7,
     "metadata": {},
     "output_type": "execute_result"
    }
   ],
   "source": [
    "from transformers import Trainer, TrainingArguments\n",
    "from transformers import TrainerCallback\n",
    "class LoggingCallback(TrainerCallback):\n",
    "    def __init__(self):\n",
    "        self.logs = []\n",
    "\n",
    "    def on_log(self, args, state, control, logs=None, **kwargs):\n",
    "        if logs is not None:\n",
    "            self.logs.append(logs)\n",
    "\n",
    "logging_callback = LoggingCallback()\n",
    "\n",
    "training_args = TrainingArguments(\n",
    "    output_dir=\"./results\",\n",
    "    evaluation_strategy=\"epoch\",\n",
    "    logging_dir=\"./logs\",\n",
    "    logging_steps=10,\n",
    "    save_steps=10,\n",
    "    learning_rate=0.1,\n",
    "    per_device_train_batch_size=32,\n",
    "    per_device_eval_batch_size=32,\n",
    "    num_train_epochs=3,\n",
    "    weight_decay=0.01,\n",
    ")\n",
    "\n",
    "trainer = Trainer(\n",
    "    model=model,\n",
    "    args=training_args,\n",
    "    train_dataset=train_dataset,\n",
    "    eval_dataset=test_dataset,\n",
    "    callbacks=[logging_callback],\n",
    ")\n",
    "\n",
    "trainer.train()\n"
   ]
  },
  {
   "cell_type": "markdown",
   "metadata": {},
   "source": [
    "Оценим качество модели и сохраним ее. Нарисуем графики"
   ]
  },
  {
   "cell_type": "code",
   "execution_count": 10,
   "metadata": {},
   "outputs": [
    {
     "data": {
      "application/vnd.jupyter.widget-view+json": {
       "model_id": "edabbbfede1749e085468bf243a8707e",
       "version_major": 2,
       "version_minor": 0
      },
      "text/plain": [
       "  0%|          | 0/1 [00:00<?, ?it/s]"
      ]
     },
     "metadata": {},
     "output_type": "display_data"
    },
    {
     "data": {
      "text/plain": [
       "{'eval_loss': 2.056861400604248,\n",
       " 'eval_runtime': 224.659,\n",
       " 'eval_samples_per_second': 0.089,\n",
       " 'eval_steps_per_second': 0.004,\n",
       " 'epoch': 3.0}"
      ]
     },
     "execution_count": 10,
     "metadata": {},
     "output_type": "execute_result"
    }
   ],
   "source": [
    "model.save_pretrained(\"./model\")\n",
    "tokenizer.save_pretrained(\"./model\")\n",
    "\n",
    "trainer.evaluate()"
   ]
  },
  {
   "cell_type": "markdown",
   "metadata": {},
   "source": [
    "Нарисуем графики"
   ]
  },
  {
   "cell_type": "code",
   "execution_count": 13,
   "metadata": {},
   "outputs": [
    {
     "data": {
      "text/plain": [
       "[{'eval_loss': 2.058337688446045,\n",
       "  'eval_runtime': 225.2893,\n",
       "  'eval_samples_per_second': 0.089,\n",
       "  'eval_steps_per_second': 0.004,\n",
       "  'epoch': 1.0},\n",
       " {'eval_loss': 2.057295322418213,\n",
       "  'eval_runtime': 224.6893,\n",
       "  'eval_samples_per_second': 0.089,\n",
       "  'eval_steps_per_second': 0.004,\n",
       "  'epoch': 2.0},\n",
       " {'eval_loss': 2.056861400604248,\n",
       "  'eval_runtime': 224.7762,\n",
       "  'eval_samples_per_second': 0.089,\n",
       "  'eval_steps_per_second': 0.004,\n",
       "  'epoch': 3.0},\n",
       " {'train_runtime': 9902.4607,\n",
       "  'train_samples_per_second': 0.024,\n",
       "  'train_steps_per_second': 0.001,\n",
       "  'total_flos': 805390421852160.0,\n",
       "  'train_loss': 2.2522449493408203,\n",
       "  'epoch': 3.0},\n",
       " {'eval_loss': 2.056861400604248,\n",
       "  'eval_runtime': 224.8969,\n",
       "  'eval_samples_per_second': 0.089,\n",
       "  'eval_steps_per_second': 0.004,\n",
       "  'epoch': 3.0},\n",
       " {'eval_loss': 2.056861400604248,\n",
       "  'eval_runtime': 224.659,\n",
       "  'eval_samples_per_second': 0.089,\n",
       "  'eval_steps_per_second': 0.004,\n",
       "  'epoch': 3.0}]"
      ]
     },
     "execution_count": 13,
     "metadata": {},
     "output_type": "execute_result"
    }
   ],
   "source": [
    "logging_callback.logs"
   ]
  },
  {
   "cell_type": "code",
   "execution_count": 14,
   "metadata": {},
   "outputs": [
    {
     "data": {
      "image/png": "[encoded data removed]",
      "text/plain": [
       "<Figure size 1000x600 with 1 Axes>"
      ]
     },
     "metadata": {},
     "output_type": "display_data"
    }
   ],
   "source": [
    "\n",
    "import matplotlib.pyplot as plt\n",
    "import pandas as pd\n",
    "\n",
    "logs_df = pd.DataFrame(logging_callback.logs)\n",
    "\n",
    "\n",
    "\n",
    "epochs = logs_df['epoch']\n",
    "eval_loss = logs_df['eval_loss']\n",
    "\n",
    "plt.figure(figsize=(10, 6))\n",
    "plt.plot(epochs, eval_loss, marker='o', linestyle='-', color='b', label='Eval Loss')\n",
    "\n",
    "plt.title('Evaluation Loss vs. Epoch')\n",
    "plt.xlabel('Epoch')\n",
    "plt.ylabel('Eval Loss')\n",
    "plt.legend()\n",
    "plt.grid(True)\n",
    "plt.show()\n",
    "\n"
   ]
  },
  {
   "cell_type": "markdown",
   "metadata": {},
   "source": [
    "# Часть 4(что мы наделали...)"
   ]
  },
  {
   "cell_type": "markdown",
   "metadata": {},
   "source": [
    "Проверим качество дообученной модели на тестовом датасете"
   ]
  },
  {
   "cell_type": "code",
   "execution_count": 20,
   "metadata": {},
   "outputs": [],
   "source": [
    "from transformers import AutoTokenizer, AutoModelForCausalLM\n",
    "\n",
    "tokenizer = AutoTokenizer.from_pretrained(\"./model\")\n",
    "model = AutoModelForCausalLM.from_pretrained(\"./model\")\n",
    "\n",
    "def generate_recommendation(text):\n",
    "    inputs = tokenizer(text, return_tensors=\"pt\", truncation=True, padding=\"max_length\", max_length=512)\n",
    "\n",
    "    outputs = model.generate(\n",
    "        **inputs,\n",
    "        max_length=610,\n",
    "        num_beams=5,\n",
    "        early_stopping=True\n",
    "    )\n",
    "\n",
    "    recommendation = tokenizer.decode(outputs[0], skip_special_tokens=True)\n",
    "    return recommendation\n",
    "\n"
   ]
  },
  {
   "cell_type": "markdown",
   "metadata": {},
   "source": [
    "Протестируем модель"
   ]
  },
  {
   "cell_type": "code",
   "execution_count": 34,
   "metadata": {},
   "outputs": [
    {
     "name": "stdout",
     "output_type": "stream",
     "text": [
      "\n",
      "\n",
      " Мой сын стал избегать еды, говорит, что боится отравиться, и ест только определенные продукты.\"\n",
      "Мне нужно идти к психологу? напиши одно число \n",
      "  1. 0\n",
      "  2. 1\n",
      "  3. 2\n",
      "  4. 3\n",
      "  5. 4\n",
      "  6. 5\n",
      "  7. 6\n",
      "  8. 7\n",
      "  9. 8\n",
      "  10. 9\n",
      "  11. 10\n",
      "  12. 11\n",
      "  13. 12\n",
      "  14. 13\n",
      "  15. \n"
     ]
    }
   ],
   "source": [
    "tokenizer = AutoTokenizer.from_pretrained(\"./model\")\n",
    "model = AutoModelForCausalLM.from_pretrained(\"./model\")\n",
    "input_text = f'''\n",
    "\n",
    " {df[\"request\"][80]}\n",
    "Мне нужно идти к психологу? напиши одно число \n",
    "'''\n",
    "\n",
    "print(generate_recommendation(input_text))"
   ]
  },
  {
   "cell_type": "markdown",
   "metadata": {},
   "source": [
    "Разница до и после обучения не существенная и не стоит того. Допускаю, что где-то что-то было сделано не так"
   ]
  },
  {
   "cell_type": "markdown",
   "metadata": {},
   "source": []
  }
 ],
 "metadata": {
  "kernelspec": {
   "display_name": ".venv",
   "language": "python",
   "name": "python3"
  },
  "language_info": {
   "codemirror_mode": {
    "name": "ipython",
    "version": 3
   },
   "file_extension": ".py",
   "mimetype": "text/x-python",
   "name": "python",
   "nbconvert_exporter": "python",
   "pygments_lexer": "ipython3",
   "version": "3.11.5"
  }
 },
 "nbformat": 4,
 "nbformat_minor": 2
}
